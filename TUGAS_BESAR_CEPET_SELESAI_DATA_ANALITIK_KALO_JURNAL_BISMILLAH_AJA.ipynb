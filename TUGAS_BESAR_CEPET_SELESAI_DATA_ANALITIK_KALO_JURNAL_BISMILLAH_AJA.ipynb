{
  "nbformat": 4,
  "nbformat_minor": 0,
  "metadata": {
    "colab": {
      "provenance": [],
      "toc_visible": true,
      "mount_file_id": "1I3-GPMgvdLclqzl6yRkxS-e8imkuB2i3",
      "authorship_tag": "ABX9TyPP4LZcavnRDVgcRyqSxVzF",
      "include_colab_link": true
    },
    "kernelspec": {
      "name": "python3",
      "display_name": "Python 3"
    },
    "language_info": {
      "name": "python"
    }
  },
  "cells": [
    {
      "cell_type": "markdown",
      "metadata": {
        "id": "view-in-github",
        "colab_type": "text"
      },
      "source": [
        "<a href=\"https://colab.research.google.com/github/Ahhhextd/PROJECT_AHHHEXTD/blob/main/TUGAS_BESAR_CEPET_SELESAI_DATA_ANALITIK_KALO_JURNAL_BISMILLAH_AJA.ipynb\" target=\"_parent\"><img src=\"https://colab.research.google.com/assets/colab-badge.svg\" alt=\"Open In Colab\"/></a>"
      ]
    },
    {
      "cell_type": "code",
      "source": [
        "import pandas as pd\n",
        "import numpy as np\n",
        "from sklearn.preprocessing import LabelEncoder, StandardScaler\n",
        "from sklearn.cluster import KMeans\n",
        "from sklearn.metrics import silhouette_score, adjusted_rand_score\n",
        "from scipy.spatial.distance import cdist\n",
        "import matplotlib.pyplot as plt\n",
        "import seaborn as sns\n",
        "from scipy.cluster.hierarchy import dendrogram, linkage, fcluster"
      ],
      "metadata": {
        "id": "Xv2q0-1Ke6qN"
      },
      "execution_count": null,
      "outputs": []
    },
    {
      "cell_type": "code",
      "source": [
        "data = pd.read_csv('/content/Data_Realisasi_Investasi_Triwulan_I_Tahun_2025.csv')\n",
        "print(data.dtypes)"
      ],
      "metadata": {
        "colab": {
          "base_uri": "https://localhost:8080/"
        },
        "id": "5BRUaTcafHRO",
        "outputId": "40b89392-3e36-4e0b-fa3e-0160228de8f1"
      },
      "execution_count": null,
      "outputs": [
        {
          "output_type": "stream",
          "name": "stdout",
          "text": [
            "periode                    object\n",
            "status_penanaman_modal     object\n",
            "regional                   object\n",
            "negara                     object\n",
            "sektor_utama               object\n",
            "nama_sektor                object\n",
            "deskripsi_kbli_2digit      object\n",
            "provinsi                   object\n",
            "kabupaten_kota             object\n",
            "jawa_luar_jawa             object\n",
            "pulau                      object\n",
            "investasi_rp_juta         float64\n",
            "investasi_us_ribu         float64\n",
            "tki                         int64\n",
            "dtype: object\n"
          ]
        }
      ]
    },
    {
      "cell_type": "code",
      "source": [
        "data.head ()"
      ],
      "metadata": {
        "colab": {
          "base_uri": "https://localhost:8080/",
          "height": 417
        },
        "id": "bAeArqxCIq5B",
        "outputId": "6f571bf2-db13-4b7e-daaa-7ead11cb412b"
      },
      "execution_count": null,
      "outputs": [
        {
          "output_type": "execute_result",
          "data": {
            "text/plain": [
              "             periode status_penanaman_modal regional          negara  \\\n",
              "0  2025 - Triwulan 1                    PMA   Afrika  Afrika Selatan   \n",
              "1  2025 - Triwulan 1                    PMA   Afrika  Afrika Selatan   \n",
              "2  2025 - Triwulan 1                    PMA   Afrika  Afrika Selatan   \n",
              "3  2025 - Triwulan 1                    PMA   Afrika  Afrika Selatan   \n",
              "4  2025 - Triwulan 1                    PMA   Afrika  Afrika Selatan   \n",
              "\n",
              "      sektor_utama                     nama_sektor  \\\n",
              "0    Sektor Primer                    Pertambangan   \n",
              "1  Sektor Sekunder  Industri Kertas dan Percetakan   \n",
              "2   Sektor Tersier              Hotel dan Restoran   \n",
              "3   Sektor Tersier              Hotel dan Restoran   \n",
              "4   Sektor Tersier              Hotel dan Restoran   \n",
              "\n",
              "                             deskripsi_kbli_2digit  \\\n",
              "0  (09-2020) Aktivitas Jasa Penunjang Pertambangan   \n",
              "1                   (58-2020) Aktivitas Penerbitan   \n",
              "2                   (55-2020) Penyediaan Akomodasi   \n",
              "3                   (55-2020) Penyediaan Akomodasi   \n",
              "4                   (55-2020) Penyediaan Akomodasi   \n",
              "\n",
              "                        provinsi             kabupaten_kota jawa_luar_jawa  \\\n",
              "0  Daerah Khusus Ibukota Jakarta  Kota Adm. Jakarta Selatan           Jawa   \n",
              "1                           Bali           Kabupaten Badung      Luar Jawa   \n",
              "2                           Bali           Kabupaten Badung      Luar Jawa   \n",
              "3            Nusa Tenggara Barat            Kabupaten Dompu      Luar Jawa   \n",
              "4            Nusa Tenggara Barat    Kabupaten Lombok Tengah      Luar Jawa   \n",
              "\n",
              "                    pulau  investasi_rp_juta  investasi_us_ribu  tki  \n",
              "0                    Jawa       10217.340106         638.583757   18  \n",
              "1  Bali dan Nusa Tenggara           0.000000           0.000000    0  \n",
              "2  Bali dan Nusa Tenggara           5.000000           0.312500    0  \n",
              "3  Bali dan Nusa Tenggara           0.000000           0.000000    0  \n",
              "4  Bali dan Nusa Tenggara         335.000000          20.937500    0  "
            ],
            "text/html": [
              "\n",
              "  <div id=\"df-2b68120b-9281-4033-8635-cb8aadcae77d\" class=\"colab-df-container\">\n",
              "    <div>\n",
              "<style scoped>\n",
              "    .dataframe tbody tr th:only-of-type {\n",
              "        vertical-align: middle;\n",
              "    }\n",
              "\n",
              "    .dataframe tbody tr th {\n",
              "        vertical-align: top;\n",
              "    }\n",
              "\n",
              "    .dataframe thead th {\n",
              "        text-align: right;\n",
              "    }\n",
              "</style>\n",
              "<table border=\"1\" class=\"dataframe\">\n",
              "  <thead>\n",
              "    <tr style=\"text-align: right;\">\n",
              "      <th></th>\n",
              "      <th>periode</th>\n",
              "      <th>status_penanaman_modal</th>\n",
              "      <th>regional</th>\n",
              "      <th>negara</th>\n",
              "      <th>sektor_utama</th>\n",
              "      <th>nama_sektor</th>\n",
              "      <th>deskripsi_kbli_2digit</th>\n",
              "      <th>provinsi</th>\n",
              "      <th>kabupaten_kota</th>\n",
              "      <th>jawa_luar_jawa</th>\n",
              "      <th>pulau</th>\n",
              "      <th>investasi_rp_juta</th>\n",
              "      <th>investasi_us_ribu</th>\n",
              "      <th>tki</th>\n",
              "    </tr>\n",
              "  </thead>\n",
              "  <tbody>\n",
              "    <tr>\n",
              "      <th>0</th>\n",
              "      <td>2025 - Triwulan 1</td>\n",
              "      <td>PMA</td>\n",
              "      <td>Afrika</td>\n",
              "      <td>Afrika Selatan</td>\n",
              "      <td>Sektor Primer</td>\n",
              "      <td>Pertambangan</td>\n",
              "      <td>(09-2020) Aktivitas Jasa Penunjang Pertambangan</td>\n",
              "      <td>Daerah Khusus Ibukota Jakarta</td>\n",
              "      <td>Kota Adm. Jakarta Selatan</td>\n",
              "      <td>Jawa</td>\n",
              "      <td>Jawa</td>\n",
              "      <td>10217.340106</td>\n",
              "      <td>638.583757</td>\n",
              "      <td>18</td>\n",
              "    </tr>\n",
              "    <tr>\n",
              "      <th>1</th>\n",
              "      <td>2025 - Triwulan 1</td>\n",
              "      <td>PMA</td>\n",
              "      <td>Afrika</td>\n",
              "      <td>Afrika Selatan</td>\n",
              "      <td>Sektor Sekunder</td>\n",
              "      <td>Industri Kertas dan Percetakan</td>\n",
              "      <td>(58-2020) Aktivitas Penerbitan</td>\n",
              "      <td>Bali</td>\n",
              "      <td>Kabupaten Badung</td>\n",
              "      <td>Luar Jawa</td>\n",
              "      <td>Bali dan Nusa Tenggara</td>\n",
              "      <td>0.000000</td>\n",
              "      <td>0.000000</td>\n",
              "      <td>0</td>\n",
              "    </tr>\n",
              "    <tr>\n",
              "      <th>2</th>\n",
              "      <td>2025 - Triwulan 1</td>\n",
              "      <td>PMA</td>\n",
              "      <td>Afrika</td>\n",
              "      <td>Afrika Selatan</td>\n",
              "      <td>Sektor Tersier</td>\n",
              "      <td>Hotel dan Restoran</td>\n",
              "      <td>(55-2020) Penyediaan Akomodasi</td>\n",
              "      <td>Bali</td>\n",
              "      <td>Kabupaten Badung</td>\n",
              "      <td>Luar Jawa</td>\n",
              "      <td>Bali dan Nusa Tenggara</td>\n",
              "      <td>5.000000</td>\n",
              "      <td>0.312500</td>\n",
              "      <td>0</td>\n",
              "    </tr>\n",
              "    <tr>\n",
              "      <th>3</th>\n",
              "      <td>2025 - Triwulan 1</td>\n",
              "      <td>PMA</td>\n",
              "      <td>Afrika</td>\n",
              "      <td>Afrika Selatan</td>\n",
              "      <td>Sektor Tersier</td>\n",
              "      <td>Hotel dan Restoran</td>\n",
              "      <td>(55-2020) Penyediaan Akomodasi</td>\n",
              "      <td>Nusa Tenggara Barat</td>\n",
              "      <td>Kabupaten Dompu</td>\n",
              "      <td>Luar Jawa</td>\n",
              "      <td>Bali dan Nusa Tenggara</td>\n",
              "      <td>0.000000</td>\n",
              "      <td>0.000000</td>\n",
              "      <td>0</td>\n",
              "    </tr>\n",
              "    <tr>\n",
              "      <th>4</th>\n",
              "      <td>2025 - Triwulan 1</td>\n",
              "      <td>PMA</td>\n",
              "      <td>Afrika</td>\n",
              "      <td>Afrika Selatan</td>\n",
              "      <td>Sektor Tersier</td>\n",
              "      <td>Hotel dan Restoran</td>\n",
              "      <td>(55-2020) Penyediaan Akomodasi</td>\n",
              "      <td>Nusa Tenggara Barat</td>\n",
              "      <td>Kabupaten Lombok Tengah</td>\n",
              "      <td>Luar Jawa</td>\n",
              "      <td>Bali dan Nusa Tenggara</td>\n",
              "      <td>335.000000</td>\n",
              "      <td>20.937500</td>\n",
              "      <td>0</td>\n",
              "    </tr>\n",
              "  </tbody>\n",
              "</table>\n",
              "</div>\n",
              "    <div class=\"colab-df-buttons\">\n",
              "\n",
              "  <div class=\"colab-df-container\">\n",
              "    <button class=\"colab-df-convert\" onclick=\"convertToInteractive('df-2b68120b-9281-4033-8635-cb8aadcae77d')\"\n",
              "            title=\"Convert this dataframe to an interactive table.\"\n",
              "            style=\"display:none;\">\n",
              "\n",
              "  <svg xmlns=\"http://www.w3.org/2000/svg\" height=\"24px\" viewBox=\"0 -960 960 960\">\n",
              "    <path d=\"M120-120v-720h720v720H120Zm60-500h600v-160H180v160Zm220 220h160v-160H400v160Zm0 220h160v-160H400v160ZM180-400h160v-160H180v160Zm440 0h160v-160H620v160ZM180-180h160v-160H180v160Zm440 0h160v-160H620v160Z\"/>\n",
              "  </svg>\n",
              "    </button>\n",
              "\n",
              "  <style>\n",
              "    .colab-df-container {\n",
              "      display:flex;\n",
              "      gap: 12px;\n",
              "    }\n",
              "\n",
              "    .colab-df-convert {\n",
              "      background-color: #E8F0FE;\n",
              "      border: none;\n",
              "      border-radius: 50%;\n",
              "      cursor: pointer;\n",
              "      display: none;\n",
              "      fill: #1967D2;\n",
              "      height: 32px;\n",
              "      padding: 0 0 0 0;\n",
              "      width: 32px;\n",
              "    }\n",
              "\n",
              "    .colab-df-convert:hover {\n",
              "      background-color: #E2EBFA;\n",
              "      box-shadow: 0px 1px 2px rgba(60, 64, 67, 0.3), 0px 1px 3px 1px rgba(60, 64, 67, 0.15);\n",
              "      fill: #174EA6;\n",
              "    }\n",
              "\n",
              "    .colab-df-buttons div {\n",
              "      margin-bottom: 4px;\n",
              "    }\n",
              "\n",
              "    [theme=dark] .colab-df-convert {\n",
              "      background-color: #3B4455;\n",
              "      fill: #D2E3FC;\n",
              "    }\n",
              "\n",
              "    [theme=dark] .colab-df-convert:hover {\n",
              "      background-color: #434B5C;\n",
              "      box-shadow: 0px 1px 3px 1px rgba(0, 0, 0, 0.15);\n",
              "      filter: drop-shadow(0px 1px 2px rgba(0, 0, 0, 0.3));\n",
              "      fill: #FFFFFF;\n",
              "    }\n",
              "  </style>\n",
              "\n",
              "    <script>\n",
              "      const buttonEl =\n",
              "        document.querySelector('#df-2b68120b-9281-4033-8635-cb8aadcae77d button.colab-df-convert');\n",
              "      buttonEl.style.display =\n",
              "        google.colab.kernel.accessAllowed ? 'block' : 'none';\n",
              "\n",
              "      async function convertToInteractive(key) {\n",
              "        const element = document.querySelector('#df-2b68120b-9281-4033-8635-cb8aadcae77d');\n",
              "        const dataTable =\n",
              "          await google.colab.kernel.invokeFunction('convertToInteractive',\n",
              "                                                    [key], {});\n",
              "        if (!dataTable) return;\n",
              "\n",
              "        const docLinkHtml = 'Like what you see? Visit the ' +\n",
              "          '<a target=\"_blank\" href=https://colab.research.google.com/notebooks/data_table.ipynb>data table notebook</a>'\n",
              "          + ' to learn more about interactive tables.';\n",
              "        element.innerHTML = '';\n",
              "        dataTable['output_type'] = 'display_data';\n",
              "        await google.colab.output.renderOutput(dataTable, element);\n",
              "        const docLink = document.createElement('div');\n",
              "        docLink.innerHTML = docLinkHtml;\n",
              "        element.appendChild(docLink);\n",
              "      }\n",
              "    </script>\n",
              "  </div>\n",
              "\n",
              "\n",
              "    <div id=\"df-f0e3b296-815a-4871-81fb-a2cbe5de2863\">\n",
              "      <button class=\"colab-df-quickchart\" onclick=\"quickchart('df-f0e3b296-815a-4871-81fb-a2cbe5de2863')\"\n",
              "                title=\"Suggest charts\"\n",
              "                style=\"display:none;\">\n",
              "\n",
              "<svg xmlns=\"http://www.w3.org/2000/svg\" height=\"24px\"viewBox=\"0 0 24 24\"\n",
              "     width=\"24px\">\n",
              "    <g>\n",
              "        <path d=\"M19 3H5c-1.1 0-2 .9-2 2v14c0 1.1.9 2 2 2h14c1.1 0 2-.9 2-2V5c0-1.1-.9-2-2-2zM9 17H7v-7h2v7zm4 0h-2V7h2v10zm4 0h-2v-4h2v4z\"/>\n",
              "    </g>\n",
              "</svg>\n",
              "      </button>\n",
              "\n",
              "<style>\n",
              "  .colab-df-quickchart {\n",
              "      --bg-color: #E8F0FE;\n",
              "      --fill-color: #1967D2;\n",
              "      --hover-bg-color: #E2EBFA;\n",
              "      --hover-fill-color: #174EA6;\n",
              "      --disabled-fill-color: #AAA;\n",
              "      --disabled-bg-color: #DDD;\n",
              "  }\n",
              "\n",
              "  [theme=dark] .colab-df-quickchart {\n",
              "      --bg-color: #3B4455;\n",
              "      --fill-color: #D2E3FC;\n",
              "      --hover-bg-color: #434B5C;\n",
              "      --hover-fill-color: #FFFFFF;\n",
              "      --disabled-bg-color: #3B4455;\n",
              "      --disabled-fill-color: #666;\n",
              "  }\n",
              "\n",
              "  .colab-df-quickchart {\n",
              "    background-color: var(--bg-color);\n",
              "    border: none;\n",
              "    border-radius: 50%;\n",
              "    cursor: pointer;\n",
              "    display: none;\n",
              "    fill: var(--fill-color);\n",
              "    height: 32px;\n",
              "    padding: 0;\n",
              "    width: 32px;\n",
              "  }\n",
              "\n",
              "  .colab-df-quickchart:hover {\n",
              "    background-color: var(--hover-bg-color);\n",
              "    box-shadow: 0 1px 2px rgba(60, 64, 67, 0.3), 0 1px 3px 1px rgba(60, 64, 67, 0.15);\n",
              "    fill: var(--button-hover-fill-color);\n",
              "  }\n",
              "\n",
              "  .colab-df-quickchart-complete:disabled,\n",
              "  .colab-df-quickchart-complete:disabled:hover {\n",
              "    background-color: var(--disabled-bg-color);\n",
              "    fill: var(--disabled-fill-color);\n",
              "    box-shadow: none;\n",
              "  }\n",
              "\n",
              "  .colab-df-spinner {\n",
              "    border: 2px solid var(--fill-color);\n",
              "    border-color: transparent;\n",
              "    border-bottom-color: var(--fill-color);\n",
              "    animation:\n",
              "      spin 1s steps(1) infinite;\n",
              "  }\n",
              "\n",
              "  @keyframes spin {\n",
              "    0% {\n",
              "      border-color: transparent;\n",
              "      border-bottom-color: var(--fill-color);\n",
              "      border-left-color: var(--fill-color);\n",
              "    }\n",
              "    20% {\n",
              "      border-color: transparent;\n",
              "      border-left-color: var(--fill-color);\n",
              "      border-top-color: var(--fill-color);\n",
              "    }\n",
              "    30% {\n",
              "      border-color: transparent;\n",
              "      border-left-color: var(--fill-color);\n",
              "      border-top-color: var(--fill-color);\n",
              "      border-right-color: var(--fill-color);\n",
              "    }\n",
              "    40% {\n",
              "      border-color: transparent;\n",
              "      border-right-color: var(--fill-color);\n",
              "      border-top-color: var(--fill-color);\n",
              "    }\n",
              "    60% {\n",
              "      border-color: transparent;\n",
              "      border-right-color: var(--fill-color);\n",
              "    }\n",
              "    80% {\n",
              "      border-color: transparent;\n",
              "      border-right-color: var(--fill-color);\n",
              "      border-bottom-color: var(--fill-color);\n",
              "    }\n",
              "    90% {\n",
              "      border-color: transparent;\n",
              "      border-bottom-color: var(--fill-color);\n",
              "    }\n",
              "  }\n",
              "</style>\n",
              "\n",
              "      <script>\n",
              "        async function quickchart(key) {\n",
              "          const quickchartButtonEl =\n",
              "            document.querySelector('#' + key + ' button');\n",
              "          quickchartButtonEl.disabled = true;  // To prevent multiple clicks.\n",
              "          quickchartButtonEl.classList.add('colab-df-spinner');\n",
              "          try {\n",
              "            const charts = await google.colab.kernel.invokeFunction(\n",
              "                'suggestCharts', [key], {});\n",
              "          } catch (error) {\n",
              "            console.error('Error during call to suggestCharts:', error);\n",
              "          }\n",
              "          quickchartButtonEl.classList.remove('colab-df-spinner');\n",
              "          quickchartButtonEl.classList.add('colab-df-quickchart-complete');\n",
              "        }\n",
              "        (() => {\n",
              "          let quickchartButtonEl =\n",
              "            document.querySelector('#df-f0e3b296-815a-4871-81fb-a2cbe5de2863 button');\n",
              "          quickchartButtonEl.style.display =\n",
              "            google.colab.kernel.accessAllowed ? 'block' : 'none';\n",
              "        })();\n",
              "      </script>\n",
              "    </div>\n",
              "\n",
              "    </div>\n",
              "  </div>\n"
            ],
            "application/vnd.google.colaboratory.intrinsic+json": {
              "type": "dataframe",
              "summary": "{\n  \"name\": \"data\",\n  \"rows\": 5,\n  \"fields\": [\n    {\n      \"column\": \"periode\",\n      \"properties\": {\n        \"dtype\": \"category\",\n        \"num_unique_values\": 1,\n        \"samples\": [\n          \"2025 - Triwulan 1\"\n        ],\n        \"semantic_type\": \"\",\n        \"description\": \"\"\n      }\n    },\n    {\n      \"column\": \"status_penanaman_modal\",\n      \"properties\": {\n        \"dtype\": \"category\",\n        \"num_unique_values\": 1,\n        \"samples\": [\n          \"PMA\"\n        ],\n        \"semantic_type\": \"\",\n        \"description\": \"\"\n      }\n    },\n    {\n      \"column\": \"regional\",\n      \"properties\": {\n        \"dtype\": \"category\",\n        \"num_unique_values\": 1,\n        \"samples\": [\n          \"Afrika\"\n        ],\n        \"semantic_type\": \"\",\n        \"description\": \"\"\n      }\n    },\n    {\n      \"column\": \"negara\",\n      \"properties\": {\n        \"dtype\": \"category\",\n        \"num_unique_values\": 1,\n        \"samples\": [\n          \"Afrika Selatan\"\n        ],\n        \"semantic_type\": \"\",\n        \"description\": \"\"\n      }\n    },\n    {\n      \"column\": \"sektor_utama\",\n      \"properties\": {\n        \"dtype\": \"string\",\n        \"num_unique_values\": 3,\n        \"samples\": [\n          \"Sektor Primer\"\n        ],\n        \"semantic_type\": \"\",\n        \"description\": \"\"\n      }\n    },\n    {\n      \"column\": \"nama_sektor\",\n      \"properties\": {\n        \"dtype\": \"string\",\n        \"num_unique_values\": 3,\n        \"samples\": [\n          \"Pertambangan\"\n        ],\n        \"semantic_type\": \"\",\n        \"description\": \"\"\n      }\n    },\n    {\n      \"column\": \"deskripsi_kbli_2digit\",\n      \"properties\": {\n        \"dtype\": \"string\",\n        \"num_unique_values\": 3,\n        \"samples\": [\n          \"(09-2020) Aktivitas Jasa Penunjang Pertambangan\"\n        ],\n        \"semantic_type\": \"\",\n        \"description\": \"\"\n      }\n    },\n    {\n      \"column\": \"provinsi\",\n      \"properties\": {\n        \"dtype\": \"string\",\n        \"num_unique_values\": 3,\n        \"samples\": [\n          \"Daerah Khusus Ibukota Jakarta\"\n        ],\n        \"semantic_type\": \"\",\n        \"description\": \"\"\n      }\n    },\n    {\n      \"column\": \"kabupaten_kota\",\n      \"properties\": {\n        \"dtype\": \"string\",\n        \"num_unique_values\": 4,\n        \"samples\": [\n          \"Kabupaten Badung\"\n        ],\n        \"semantic_type\": \"\",\n        \"description\": \"\"\n      }\n    },\n    {\n      \"column\": \"jawa_luar_jawa\",\n      \"properties\": {\n        \"dtype\": \"category\",\n        \"num_unique_values\": 2,\n        \"samples\": [\n          \"Luar Jawa\"\n        ],\n        \"semantic_type\": \"\",\n        \"description\": \"\"\n      }\n    },\n    {\n      \"column\": \"pulau\",\n      \"properties\": {\n        \"dtype\": \"category\",\n        \"num_unique_values\": 2,\n        \"samples\": [\n          \"Bali dan Nusa Tenggara\"\n        ],\n        \"semantic_type\": \"\",\n        \"description\": \"\"\n      }\n    },\n    {\n      \"column\": \"investasi_rp_juta\",\n      \"properties\": {\n        \"dtype\": \"number\",\n        \"std\": 4533.618941279826,\n        \"min\": 0.0,\n        \"max\": 10217.340106,\n        \"num_unique_values\": 4,\n        \"samples\": [\n          0.0\n        ],\n        \"semantic_type\": \"\",\n        \"description\": \"\"\n      }\n    },\n    {\n      \"column\": \"investasi_us_ribu\",\n      \"properties\": {\n        \"dtype\": \"number\",\n        \"std\": 283.3511838299891,\n        \"min\": 0.0,\n        \"max\": 638.583756625,\n        \"num_unique_values\": 4,\n        \"samples\": [\n          0.0\n        ],\n        \"semantic_type\": \"\",\n        \"description\": \"\"\n      }\n    },\n    {\n      \"column\": \"tki\",\n      \"properties\": {\n        \"dtype\": \"number\",\n        \"std\": 8,\n        \"min\": 0,\n        \"max\": 18,\n        \"num_unique_values\": 2,\n        \"samples\": [\n          0\n        ],\n        \"semantic_type\": \"\",\n        \"description\": \"\"\n      }\n    }\n  ]\n}"
            }
          },
          "metadata": {},
          "execution_count": 28
        }
      ]
    },
    {
      "cell_type": "code",
      "source": [
        "data_filtered = data[['regional', 'sektor_utama', 'nama_sektor', 'provinsi', 'pulau', 'investasi_rp_juta', 'deskripsi_kbli_2digit']]\n",
        "data_filtered.head (11)\n"
      ],
      "metadata": {
        "colab": {
          "base_uri": "https://localhost:8080/",
          "height": 394
        },
        "id": "G6riN9eNO_1L",
        "outputId": "d3b35c1a-83d8-486a-e512-205d26278749"
      },
      "execution_count": null,
      "outputs": [
        {
          "output_type": "execute_result",
          "data": {
            "text/plain": [
              "   regional     sektor_utama                     nama_sektor  \\\n",
              "0    Afrika    Sektor Primer                    Pertambangan   \n",
              "1    Afrika  Sektor Sekunder  Industri Kertas dan Percetakan   \n",
              "2    Afrika   Sektor Tersier              Hotel dan Restoran   \n",
              "3    Afrika   Sektor Tersier              Hotel dan Restoran   \n",
              "4    Afrika   Sektor Tersier              Hotel dan Restoran   \n",
              "5    Afrika   Sektor Tersier              Hotel dan Restoran   \n",
              "6    Afrika   Sektor Tersier              Hotel dan Restoran   \n",
              "7    Afrika   Sektor Tersier              Hotel dan Restoran   \n",
              "8    Afrika   Sektor Tersier              Hotel dan Restoran   \n",
              "9    Afrika   Sektor Tersier              Hotel dan Restoran   \n",
              "10   Afrika   Sektor Tersier              Hotel dan Restoran   \n",
              "\n",
              "                         provinsi                   pulau  investasi_rp_juta  \\\n",
              "0   Daerah Khusus Ibukota Jakarta                    Jawa       10217.340106   \n",
              "1                            Bali  Bali dan Nusa Tenggara           0.000000   \n",
              "2                            Bali  Bali dan Nusa Tenggara           5.000000   \n",
              "3             Nusa Tenggara Barat  Bali dan Nusa Tenggara           0.000000   \n",
              "4             Nusa Tenggara Barat  Bali dan Nusa Tenggara         335.000000   \n",
              "5             Nusa Tenggara Barat  Bali dan Nusa Tenggara         738.567408   \n",
              "6                  Sumatera Barat                Sumatera          28.000000   \n",
              "7                  Sumatera Utara                Sumatera         152.000000   \n",
              "8                            Bali  Bali dan Nusa Tenggara          12.500000   \n",
              "9                            Bali  Bali dan Nusa Tenggara           0.000000   \n",
              "10                           Bali  Bali dan Nusa Tenggara         373.111389   \n",
              "\n",
              "                              deskripsi_kbli_2digit  \n",
              "0   (09-2020) Aktivitas Jasa Penunjang Pertambangan  \n",
              "1                    (58-2020) Aktivitas Penerbitan  \n",
              "2                    (55-2020) Penyediaan Akomodasi  \n",
              "3                    (55-2020) Penyediaan Akomodasi  \n",
              "4                    (55-2020) Penyediaan Akomodasi  \n",
              "5                    (55-2020) Penyediaan Akomodasi  \n",
              "6                    (55-2020) Penyediaan Akomodasi  \n",
              "7                    (55-2020) Penyediaan Akomodasi  \n",
              "8          (56-2020) Penyediaan Makanan Dan Minuman  \n",
              "9          (56-2020) Penyediaan Makanan Dan Minuman  \n",
              "10         (56-2020) Penyediaan Makanan Dan Minuman  "
            ],
            "text/html": [
              "\n",
              "  <div id=\"df-6853e087-a182-40b2-bc46-86bc39d6f6fe\" class=\"colab-df-container\">\n",
              "    <div>\n",
              "<style scoped>\n",
              "    .dataframe tbody tr th:only-of-type {\n",
              "        vertical-align: middle;\n",
              "    }\n",
              "\n",
              "    .dataframe tbody tr th {\n",
              "        vertical-align: top;\n",
              "    }\n",
              "\n",
              "    .dataframe thead th {\n",
              "        text-align: right;\n",
              "    }\n",
              "</style>\n",
              "<table border=\"1\" class=\"dataframe\">\n",
              "  <thead>\n",
              "    <tr style=\"text-align: right;\">\n",
              "      <th></th>\n",
              "      <th>regional</th>\n",
              "      <th>sektor_utama</th>\n",
              "      <th>nama_sektor</th>\n",
              "      <th>provinsi</th>\n",
              "      <th>pulau</th>\n",
              "      <th>investasi_rp_juta</th>\n",
              "      <th>deskripsi_kbli_2digit</th>\n",
              "    </tr>\n",
              "  </thead>\n",
              "  <tbody>\n",
              "    <tr>\n",
              "      <th>0</th>\n",
              "      <td>Afrika</td>\n",
              "      <td>Sektor Primer</td>\n",
              "      <td>Pertambangan</td>\n",
              "      <td>Daerah Khusus Ibukota Jakarta</td>\n",
              "      <td>Jawa</td>\n",
              "      <td>10217.340106</td>\n",
              "      <td>(09-2020) Aktivitas Jasa Penunjang Pertambangan</td>\n",
              "    </tr>\n",
              "    <tr>\n",
              "      <th>1</th>\n",
              "      <td>Afrika</td>\n",
              "      <td>Sektor Sekunder</td>\n",
              "      <td>Industri Kertas dan Percetakan</td>\n",
              "      <td>Bali</td>\n",
              "      <td>Bali dan Nusa Tenggara</td>\n",
              "      <td>0.000000</td>\n",
              "      <td>(58-2020) Aktivitas Penerbitan</td>\n",
              "    </tr>\n",
              "    <tr>\n",
              "      <th>2</th>\n",
              "      <td>Afrika</td>\n",
              "      <td>Sektor Tersier</td>\n",
              "      <td>Hotel dan Restoran</td>\n",
              "      <td>Bali</td>\n",
              "      <td>Bali dan Nusa Tenggara</td>\n",
              "      <td>5.000000</td>\n",
              "      <td>(55-2020) Penyediaan Akomodasi</td>\n",
              "    </tr>\n",
              "    <tr>\n",
              "      <th>3</th>\n",
              "      <td>Afrika</td>\n",
              "      <td>Sektor Tersier</td>\n",
              "      <td>Hotel dan Restoran</td>\n",
              "      <td>Nusa Tenggara Barat</td>\n",
              "      <td>Bali dan Nusa Tenggara</td>\n",
              "      <td>0.000000</td>\n",
              "      <td>(55-2020) Penyediaan Akomodasi</td>\n",
              "    </tr>\n",
              "    <tr>\n",
              "      <th>4</th>\n",
              "      <td>Afrika</td>\n",
              "      <td>Sektor Tersier</td>\n",
              "      <td>Hotel dan Restoran</td>\n",
              "      <td>Nusa Tenggara Barat</td>\n",
              "      <td>Bali dan Nusa Tenggara</td>\n",
              "      <td>335.000000</td>\n",
              "      <td>(55-2020) Penyediaan Akomodasi</td>\n",
              "    </tr>\n",
              "    <tr>\n",
              "      <th>5</th>\n",
              "      <td>Afrika</td>\n",
              "      <td>Sektor Tersier</td>\n",
              "      <td>Hotel dan Restoran</td>\n",
              "      <td>Nusa Tenggara Barat</td>\n",
              "      <td>Bali dan Nusa Tenggara</td>\n",
              "      <td>738.567408</td>\n",
              "      <td>(55-2020) Penyediaan Akomodasi</td>\n",
              "    </tr>\n",
              "    <tr>\n",
              "      <th>6</th>\n",
              "      <td>Afrika</td>\n",
              "      <td>Sektor Tersier</td>\n",
              "      <td>Hotel dan Restoran</td>\n",
              "      <td>Sumatera Barat</td>\n",
              "      <td>Sumatera</td>\n",
              "      <td>28.000000</td>\n",
              "      <td>(55-2020) Penyediaan Akomodasi</td>\n",
              "    </tr>\n",
              "    <tr>\n",
              "      <th>7</th>\n",
              "      <td>Afrika</td>\n",
              "      <td>Sektor Tersier</td>\n",
              "      <td>Hotel dan Restoran</td>\n",
              "      <td>Sumatera Utara</td>\n",
              "      <td>Sumatera</td>\n",
              "      <td>152.000000</td>\n",
              "      <td>(55-2020) Penyediaan Akomodasi</td>\n",
              "    </tr>\n",
              "    <tr>\n",
              "      <th>8</th>\n",
              "      <td>Afrika</td>\n",
              "      <td>Sektor Tersier</td>\n",
              "      <td>Hotel dan Restoran</td>\n",
              "      <td>Bali</td>\n",
              "      <td>Bali dan Nusa Tenggara</td>\n",
              "      <td>12.500000</td>\n",
              "      <td>(56-2020) Penyediaan Makanan Dan Minuman</td>\n",
              "    </tr>\n",
              "    <tr>\n",
              "      <th>9</th>\n",
              "      <td>Afrika</td>\n",
              "      <td>Sektor Tersier</td>\n",
              "      <td>Hotel dan Restoran</td>\n",
              "      <td>Bali</td>\n",
              "      <td>Bali dan Nusa Tenggara</td>\n",
              "      <td>0.000000</td>\n",
              "      <td>(56-2020) Penyediaan Makanan Dan Minuman</td>\n",
              "    </tr>\n",
              "    <tr>\n",
              "      <th>10</th>\n",
              "      <td>Afrika</td>\n",
              "      <td>Sektor Tersier</td>\n",
              "      <td>Hotel dan Restoran</td>\n",
              "      <td>Bali</td>\n",
              "      <td>Bali dan Nusa Tenggara</td>\n",
              "      <td>373.111389</td>\n",
              "      <td>(56-2020) Penyediaan Makanan Dan Minuman</td>\n",
              "    </tr>\n",
              "  </tbody>\n",
              "</table>\n",
              "</div>\n",
              "    <div class=\"colab-df-buttons\">\n",
              "\n",
              "  <div class=\"colab-df-container\">\n",
              "    <button class=\"colab-df-convert\" onclick=\"convertToInteractive('df-6853e087-a182-40b2-bc46-86bc39d6f6fe')\"\n",
              "            title=\"Convert this dataframe to an interactive table.\"\n",
              "            style=\"display:none;\">\n",
              "\n",
              "  <svg xmlns=\"http://www.w3.org/2000/svg\" height=\"24px\" viewBox=\"0 -960 960 960\">\n",
              "    <path d=\"M120-120v-720h720v720H120Zm60-500h600v-160H180v160Zm220 220h160v-160H400v160Zm0 220h160v-160H400v160ZM180-400h160v-160H180v160Zm440 0h160v-160H620v160ZM180-180h160v-160H180v160Zm440 0h160v-160H620v160Z\"/>\n",
              "  </svg>\n",
              "    </button>\n",
              "\n",
              "  <style>\n",
              "    .colab-df-container {\n",
              "      display:flex;\n",
              "      gap: 12px;\n",
              "    }\n",
              "\n",
              "    .colab-df-convert {\n",
              "      background-color: #E8F0FE;\n",
              "      border: none;\n",
              "      border-radius: 50%;\n",
              "      cursor: pointer;\n",
              "      display: none;\n",
              "      fill: #1967D2;\n",
              "      height: 32px;\n",
              "      padding: 0 0 0 0;\n",
              "      width: 32px;\n",
              "    }\n",
              "\n",
              "    .colab-df-convert:hover {\n",
              "      background-color: #E2EBFA;\n",
              "      box-shadow: 0px 1px 2px rgba(60, 64, 67, 0.3), 0px 1px 3px 1px rgba(60, 64, 67, 0.15);\n",
              "      fill: #174EA6;\n",
              "    }\n",
              "\n",
              "    .colab-df-buttons div {\n",
              "      margin-bottom: 4px;\n",
              "    }\n",
              "\n",
              "    [theme=dark] .colab-df-convert {\n",
              "      background-color: #3B4455;\n",
              "      fill: #D2E3FC;\n",
              "    }\n",
              "\n",
              "    [theme=dark] .colab-df-convert:hover {\n",
              "      background-color: #434B5C;\n",
              "      box-shadow: 0px 1px 3px 1px rgba(0, 0, 0, 0.15);\n",
              "      filter: drop-shadow(0px 1px 2px rgba(0, 0, 0, 0.3));\n",
              "      fill: #FFFFFF;\n",
              "    }\n",
              "  </style>\n",
              "\n",
              "    <script>\n",
              "      const buttonEl =\n",
              "        document.querySelector('#df-6853e087-a182-40b2-bc46-86bc39d6f6fe button.colab-df-convert');\n",
              "      buttonEl.style.display =\n",
              "        google.colab.kernel.accessAllowed ? 'block' : 'none';\n",
              "\n",
              "      async function convertToInteractive(key) {\n",
              "        const element = document.querySelector('#df-6853e087-a182-40b2-bc46-86bc39d6f6fe');\n",
              "        const dataTable =\n",
              "          await google.colab.kernel.invokeFunction('convertToInteractive',\n",
              "                                                    [key], {});\n",
              "        if (!dataTable) return;\n",
              "\n",
              "        const docLinkHtml = 'Like what you see? Visit the ' +\n",
              "          '<a target=\"_blank\" href=https://colab.research.google.com/notebooks/data_table.ipynb>data table notebook</a>'\n",
              "          + ' to learn more about interactive tables.';\n",
              "        element.innerHTML = '';\n",
              "        dataTable['output_type'] = 'display_data';\n",
              "        await google.colab.output.renderOutput(dataTable, element);\n",
              "        const docLink = document.createElement('div');\n",
              "        docLink.innerHTML = docLinkHtml;\n",
              "        element.appendChild(docLink);\n",
              "      }\n",
              "    </script>\n",
              "  </div>\n",
              "\n",
              "\n",
              "    <div id=\"df-754ae35c-0371-4c74-a919-90576a9a00a9\">\n",
              "      <button class=\"colab-df-quickchart\" onclick=\"quickchart('df-754ae35c-0371-4c74-a919-90576a9a00a9')\"\n",
              "                title=\"Suggest charts\"\n",
              "                style=\"display:none;\">\n",
              "\n",
              "<svg xmlns=\"http://www.w3.org/2000/svg\" height=\"24px\"viewBox=\"0 0 24 24\"\n",
              "     width=\"24px\">\n",
              "    <g>\n",
              "        <path d=\"M19 3H5c-1.1 0-2 .9-2 2v14c0 1.1.9 2 2 2h14c1.1 0 2-.9 2-2V5c0-1.1-.9-2-2-2zM9 17H7v-7h2v7zm4 0h-2V7h2v10zm4 0h-2v-4h2v4z\"/>\n",
              "    </g>\n",
              "</svg>\n",
              "      </button>\n",
              "\n",
              "<style>\n",
              "  .colab-df-quickchart {\n",
              "      --bg-color: #E8F0FE;\n",
              "      --fill-color: #1967D2;\n",
              "      --hover-bg-color: #E2EBFA;\n",
              "      --hover-fill-color: #174EA6;\n",
              "      --disabled-fill-color: #AAA;\n",
              "      --disabled-bg-color: #DDD;\n",
              "  }\n",
              "\n",
              "  [theme=dark] .colab-df-quickchart {\n",
              "      --bg-color: #3B4455;\n",
              "      --fill-color: #D2E3FC;\n",
              "      --hover-bg-color: #434B5C;\n",
              "      --hover-fill-color: #FFFFFF;\n",
              "      --disabled-bg-color: #3B4455;\n",
              "      --disabled-fill-color: #666;\n",
              "  }\n",
              "\n",
              "  .colab-df-quickchart {\n",
              "    background-color: var(--bg-color);\n",
              "    border: none;\n",
              "    border-radius: 50%;\n",
              "    cursor: pointer;\n",
              "    display: none;\n",
              "    fill: var(--fill-color);\n",
              "    height: 32px;\n",
              "    padding: 0;\n",
              "    width: 32px;\n",
              "  }\n",
              "\n",
              "  .colab-df-quickchart:hover {\n",
              "    background-color: var(--hover-bg-color);\n",
              "    box-shadow: 0 1px 2px rgba(60, 64, 67, 0.3), 0 1px 3px 1px rgba(60, 64, 67, 0.15);\n",
              "    fill: var(--button-hover-fill-color);\n",
              "  }\n",
              "\n",
              "  .colab-df-quickchart-complete:disabled,\n",
              "  .colab-df-quickchart-complete:disabled:hover {\n",
              "    background-color: var(--disabled-bg-color);\n",
              "    fill: var(--disabled-fill-color);\n",
              "    box-shadow: none;\n",
              "  }\n",
              "\n",
              "  .colab-df-spinner {\n",
              "    border: 2px solid var(--fill-color);\n",
              "    border-color: transparent;\n",
              "    border-bottom-color: var(--fill-color);\n",
              "    animation:\n",
              "      spin 1s steps(1) infinite;\n",
              "  }\n",
              "\n",
              "  @keyframes spin {\n",
              "    0% {\n",
              "      border-color: transparent;\n",
              "      border-bottom-color: var(--fill-color);\n",
              "      border-left-color: var(--fill-color);\n",
              "    }\n",
              "    20% {\n",
              "      border-color: transparent;\n",
              "      border-left-color: var(--fill-color);\n",
              "      border-top-color: var(--fill-color);\n",
              "    }\n",
              "    30% {\n",
              "      border-color: transparent;\n",
              "      border-left-color: var(--fill-color);\n",
              "      border-top-color: var(--fill-color);\n",
              "      border-right-color: var(--fill-color);\n",
              "    }\n",
              "    40% {\n",
              "      border-color: transparent;\n",
              "      border-right-color: var(--fill-color);\n",
              "      border-top-color: var(--fill-color);\n",
              "    }\n",
              "    60% {\n",
              "      border-color: transparent;\n",
              "      border-right-color: var(--fill-color);\n",
              "    }\n",
              "    80% {\n",
              "      border-color: transparent;\n",
              "      border-right-color: var(--fill-color);\n",
              "      border-bottom-color: var(--fill-color);\n",
              "    }\n",
              "    90% {\n",
              "      border-color: transparent;\n",
              "      border-bottom-color: var(--fill-color);\n",
              "    }\n",
              "  }\n",
              "</style>\n",
              "\n",
              "      <script>\n",
              "        async function quickchart(key) {\n",
              "          const quickchartButtonEl =\n",
              "            document.querySelector('#' + key + ' button');\n",
              "          quickchartButtonEl.disabled = true;  // To prevent multiple clicks.\n",
              "          quickchartButtonEl.classList.add('colab-df-spinner');\n",
              "          try {\n",
              "            const charts = await google.colab.kernel.invokeFunction(\n",
              "                'suggestCharts', [key], {});\n",
              "          } catch (error) {\n",
              "            console.error('Error during call to suggestCharts:', error);\n",
              "          }\n",
              "          quickchartButtonEl.classList.remove('colab-df-spinner');\n",
              "          quickchartButtonEl.classList.add('colab-df-quickchart-complete');\n",
              "        }\n",
              "        (() => {\n",
              "          let quickchartButtonEl =\n",
              "            document.querySelector('#df-754ae35c-0371-4c74-a919-90576a9a00a9 button');\n",
              "          quickchartButtonEl.style.display =\n",
              "            google.colab.kernel.accessAllowed ? 'block' : 'none';\n",
              "        })();\n",
              "      </script>\n",
              "    </div>\n",
              "\n",
              "    </div>\n",
              "  </div>\n"
            ],
            "application/vnd.google.colaboratory.intrinsic+json": {
              "type": "dataframe",
              "summary": "{\n  \"name\": \"data_filtered\",\n  \"rows\": 11,\n  \"fields\": [\n    {\n      \"column\": \"regional\",\n      \"properties\": {\n        \"dtype\": \"category\",\n        \"num_unique_values\": 1,\n        \"samples\": [\n          \"Afrika\"\n        ],\n        \"semantic_type\": \"\",\n        \"description\": \"\"\n      }\n    },\n    {\n      \"column\": \"sektor_utama\",\n      \"properties\": {\n        \"dtype\": \"category\",\n        \"num_unique_values\": 3,\n        \"samples\": [\n          \"Sektor Primer\"\n        ],\n        \"semantic_type\": \"\",\n        \"description\": \"\"\n      }\n    },\n    {\n      \"column\": \"nama_sektor\",\n      \"properties\": {\n        \"dtype\": \"category\",\n        \"num_unique_values\": 3,\n        \"samples\": [\n          \"Pertambangan\"\n        ],\n        \"semantic_type\": \"\",\n        \"description\": \"\"\n      }\n    },\n    {\n      \"column\": \"provinsi\",\n      \"properties\": {\n        \"dtype\": \"category\",\n        \"num_unique_values\": 5,\n        \"samples\": [\n          \"Bali\"\n        ],\n        \"semantic_type\": \"\",\n        \"description\": \"\"\n      }\n    },\n    {\n      \"column\": \"pulau\",\n      \"properties\": {\n        \"dtype\": \"category\",\n        \"num_unique_values\": 3,\n        \"samples\": [\n          \"Jawa\"\n        ],\n        \"semantic_type\": \"\",\n        \"description\": \"\"\n      }\n    },\n    {\n      \"column\": \"investasi_rp_juta\",\n      \"properties\": {\n        \"dtype\": \"number\",\n        \"std\": 3040.1400483509215,\n        \"min\": 0.0,\n        \"max\": 10217.340106,\n        \"num_unique_values\": 9,\n        \"samples\": [\n          12.5\n        ],\n        \"semantic_type\": \"\",\n        \"description\": \"\"\n      }\n    },\n    {\n      \"column\": \"deskripsi_kbli_2digit\",\n      \"properties\": {\n        \"dtype\": \"category\",\n        \"num_unique_values\": 4,\n        \"samples\": [\n          \"(58-2020) Aktivitas Penerbitan\"\n        ],\n        \"semantic_type\": \"\",\n        \"description\": \"\"\n      }\n    }\n  ]\n}"
            }
          },
          "metadata": {},
          "execution_count": 35
        }
      ]
    },
    {
      "cell_type": "code",
      "source": [
        "label_encoder = LabelEncoder()\n",
        "\n",
        "categorical_columns = ['regional', 'sektor_utama', 'nama_sektor', 'provinsi', 'pulau', 'deskripsi_kbli_2digit']\n",
        "\n",
        "for col in categorical_columns:\n",
        "    data_filtered[col] = label_encoder.fit_transform(data_filtered[col])\n"
      ],
      "metadata": {
        "colab": {
          "base_uri": "https://localhost:8080/"
        },
        "id": "JLQhKwCIPNn5",
        "outputId": "3d489760-9ffb-48a4-f09b-8d35197c8bca"
      },
      "execution_count": null,
      "outputs": [
        {
          "output_type": "stream",
          "name": "stderr",
          "text": [
            "<ipython-input-37-d0f8e0328e6b>:6: SettingWithCopyWarning: \n",
            "A value is trying to be set on a copy of a slice from a DataFrame.\n",
            "Try using .loc[row_indexer,col_indexer] = value instead\n",
            "\n",
            "See the caveats in the documentation: https://pandas.pydata.org/pandas-docs/stable/user_guide/indexing.html#returning-a-view-versus-a-copy\n",
            "  data_filtered[col] = label_encoder.fit_transform(data_filtered[col])\n",
            "<ipython-input-37-d0f8e0328e6b>:6: SettingWithCopyWarning: \n",
            "A value is trying to be set on a copy of a slice from a DataFrame.\n",
            "Try using .loc[row_indexer,col_indexer] = value instead\n",
            "\n",
            "See the caveats in the documentation: https://pandas.pydata.org/pandas-docs/stable/user_guide/indexing.html#returning-a-view-versus-a-copy\n",
            "  data_filtered[col] = label_encoder.fit_transform(data_filtered[col])\n",
            "<ipython-input-37-d0f8e0328e6b>:6: SettingWithCopyWarning: \n",
            "A value is trying to be set on a copy of a slice from a DataFrame.\n",
            "Try using .loc[row_indexer,col_indexer] = value instead\n",
            "\n",
            "See the caveats in the documentation: https://pandas.pydata.org/pandas-docs/stable/user_guide/indexing.html#returning-a-view-versus-a-copy\n",
            "  data_filtered[col] = label_encoder.fit_transform(data_filtered[col])\n",
            "<ipython-input-37-d0f8e0328e6b>:6: SettingWithCopyWarning: \n",
            "A value is trying to be set on a copy of a slice from a DataFrame.\n",
            "Try using .loc[row_indexer,col_indexer] = value instead\n",
            "\n",
            "See the caveats in the documentation: https://pandas.pydata.org/pandas-docs/stable/user_guide/indexing.html#returning-a-view-versus-a-copy\n",
            "  data_filtered[col] = label_encoder.fit_transform(data_filtered[col])\n",
            "<ipython-input-37-d0f8e0328e6b>:6: SettingWithCopyWarning: \n",
            "A value is trying to be set on a copy of a slice from a DataFrame.\n",
            "Try using .loc[row_indexer,col_indexer] = value instead\n",
            "\n",
            "See the caveats in the documentation: https://pandas.pydata.org/pandas-docs/stable/user_guide/indexing.html#returning-a-view-versus-a-copy\n",
            "  data_filtered[col] = label_encoder.fit_transform(data_filtered[col])\n",
            "<ipython-input-37-d0f8e0328e6b>:6: SettingWithCopyWarning: \n",
            "A value is trying to be set on a copy of a slice from a DataFrame.\n",
            "Try using .loc[row_indexer,col_indexer] = value instead\n",
            "\n",
            "See the caveats in the documentation: https://pandas.pydata.org/pandas-docs/stable/user_guide/indexing.html#returning-a-view-versus-a-copy\n",
            "  data_filtered[col] = label_encoder.fit_transform(data_filtered[col])\n"
          ]
        }
      ]
    },
    {
      "cell_type": "code",
      "source": [
        "scaler = StandardScaler()\n",
        "data_scaled = scaler.fit_transform(data_filtered[['investasi_rp_juta']])"
      ],
      "metadata": {
        "id": "OW-hykm8PXAa"
      },
      "execution_count": null,
      "outputs": []
    },
    {
      "cell_type": "code",
      "source": [
        "data_scaled = np.column_stack([data_filtered.drop(columns=['investasi_rp_juta']).values, data_scaled])\n"
      ],
      "metadata": {
        "id": "RHhV__wuPZ5L"
      },
      "execution_count": null,
      "outputs": []
    },
    {
      "cell_type": "code",
      "source": [
        "distortions = []\n",
        "K_range = range(1, 11)  # Cek jumlah cluster antara 1 hingga 10\n",
        "for k in K_range:\n",
        "    kmeans = KMeans(n_clusters=k, random_state=42)\n",
        "    kmeans.fit(data_scaled)\n",
        "    distortions.append(sum(np.min(cdist(data_scaled, kmeans.cluster_centers_, 'euclidean'), axis=1)) / data_scaled.shape[0])\n"
      ],
      "metadata": {
        "id": "LMiuObu-Pcd0"
      },
      "execution_count": null,
      "outputs": []
    },
    {
      "cell_type": "code",
      "source": [
        "plt.figure(figsize=(15, 10))\n",
        "plt.plot(K_range, distortions, marker='o')\n",
        "plt.title('Elbow Method For Optimal k')\n",
        "plt.xlabel('Number of Clusters')\n",
        "plt.ylabel('Distortion')\n",
        "plt.show()"
      ],
      "metadata": {
        "colab": {
          "base_uri": "https://localhost:8080/",
          "height": 872
        },
        "id": "K79WLHz-PfvR",
        "outputId": "77290e18-065e-45d0-ddef-89fe2e1812bf"
      },
      "execution_count": null,
      "outputs": [
        {
          "output_type": "display_data",
          "data": {
            "text/plain": [
              "<Figure size 1500x1000 with 1 Axes>"
            ],
            "image/png": "[encoded data removed]"
          },
          "metadata": {}
        }
      ]
    },
    {
      "cell_type": "code",
      "source": [
        "optimal_k = 3\n",
        "kmeans = KMeans(n_clusters=optimal_k, random_state=42)\n",
        "data_filtered['kmeans_cluster'] = kmeans.fit_predict(data_scaled)\n"
      ],
      "metadata": {
        "colab": {
          "base_uri": "https://localhost:8080/"
        },
        "id": "eQ_lYDZKQCLJ",
        "outputId": "b06d7449-0e00-48fb-85ea-4f6a5b42c680"
      },
      "execution_count": null,
      "outputs": [
        {
          "output_type": "stream",
          "name": "stderr",
          "text": [
            "<ipython-input-44-70a48336479a>:3: SettingWithCopyWarning: \n",
            "A value is trying to be set on a copy of a slice from a DataFrame.\n",
            "Try using .loc[row_indexer,col_indexer] = value instead\n",
            "\n",
            "See the caveats in the documentation: https://pandas.pydata.org/pandas-docs/stable/user_guide/indexing.html#returning-a-view-versus-a-copy\n",
            "  data_filtered['kmeans_cluster'] = kmeans.fit_predict(data_scaled)\n"
          ]
        }
      ]
    },
    {
      "cell_type": "code",
      "source": [
        "silhouette_avg = silhouette_score(data_scaled, data_filtered['kmeans_cluster'])\n",
        "print(f'Silhouette Coefficient for KMeans: {silhouette_avg}')"
      ],
      "metadata": {
        "colab": {
          "base_uri": "https://localhost:8080/"
        },
        "id": "hCH5UVJwQF37",
        "outputId": "49b8a6e0-2399-46bf-b6f8-6d86096c992a"
      },
      "execution_count": null,
      "outputs": [
        {
          "output_type": "stream",
          "name": "stdout",
          "text": [
            "Silhouette Coefficient for KMeans: 0.38960642267413026\n"
          ]
        }
      ]
    },
    {
      "cell_type": "code",
      "source": [
        "sns.pairplot(data_filtered, hue='kmeans_cluster', vars=['investasi_rp_juta'])\n",
        "plt.show()"
      ],
      "metadata": {
        "colab": {
          "base_uri": "https://localhost:8080/",
          "height": 268
        },
        "id": "a4ng77YXQJsE",
        "outputId": "ed86fa42-ff56-48c3-bda3-63890688c1a9"
      },
      "execution_count": null,
      "outputs": [
        {
          "output_type": "display_data",
          "data": {
            "text/plain": [
              "<Figure size 369.861x250 with 2 Axes>"
            ],
            "image/png": "[encoded data removed]"
          },
          "metadata": {}
        }
      ]
    },
    {
      "cell_type": "code",
      "source": [
        "ground_truth = np.random.randint(0, 3, size=len(data_filtered))  # Contoh ground truth\n",
        "ari_kmeans = adjusted_rand_score(ground_truth, data_filtered['kmeans_cluster'])\n",
        "print(f'Adjusted Rand Index for KMeans: {ari_kmeans}')"
      ],
      "metadata": {
        "colab": {
          "base_uri": "https://localhost:8080/"
        },
        "id": "QDAWl5yaQUoX",
        "outputId": "017ba77a-897a-433c-850d-a1156a410a88"
      },
      "execution_count": null,
      "outputs": [
        {
          "output_type": "stream",
          "name": "stdout",
          "text": [
            "Adjusted Rand Index for KMeans: -1.3967827285169006e-05\n"
          ]
        }
      ]
    },
    {
      "cell_type": "code",
      "source": [
        "# Hierarchical Clustering dengan Linkage Method 'ward'\n",
        "Z = linkage(data_scaled, method='ward')\n",
        "\n",
        "# Dendrogram untuk visualisasi\n",
        "plt.figure(figsize=(20, 7))\n",
        "dendrogram(Z)\n",
        "plt.title('Hierarchical Clustering Dendrogram')\n",
        "plt.xlabel('Index')\n",
        "plt.ylabel('Distance')\n",
        "plt.show()\n",
        "\n",
        "# Menentukan cluster berdasarkan distance threshold\n",
        "max_d = 15  # Sesuaikan threshold untuk memotong dendrogram\n",
        "data_filtered['hierarchical_cluster'] = fcluster(Z, max_d, criterion='distance')\n",
        "\n",
        "# Menampilkan hasil clustering Hierarchical\n",
        "sns.pairplot(data_filtered, hue='hierarchical_cluster', vars=['investasi_rp_juta'])\n",
        "plt.show()\n",
        "\n",
        "# Menghitung Silhouette Coefficient untuk evaluasi clustering Hierarchical\n",
        "silhouette_avg_hierarchical = silhouette_score(data_scaled, data_filtered['hierarchical_cluster'])\n",
        "print(f'Silhouette Coefficient for Hierarchical Clustering: {silhouette_avg_hierarchical}')\n",
        "\n",
        "# Adjusted Rand Index untuk Hierarchical Clustering\n",
        "ari_hierarchical = adjusted_rand_score(ground_truth, data_filtered['hierarchical_cluster'])\n",
        "print(f'Adjusted Rand Index for Hierarchical Clustering: {ari_hierarchical}')"
      ],
      "metadata": {
        "colab": {
          "base_uri": "https://localhost:8080/",
          "height": 985
        },
        "id": "vMyXzlWFQi5Z",
        "outputId": "044b1023-eabe-458d-cc71-8643c11826bd"
      },
      "execution_count": null,
      "outputs": [
        {
          "output_type": "display_data",
          "data": {
            "text/plain": [
              "<Figure size 2000x700 with 1 Axes>"
            ],
            "image/png": "[encoded data removed]"
          },
          "metadata": {}
        },
        {
          "output_type": "stream",
          "name": "stderr",
          "text": [
            "<ipython-input-49-d47edec740f1>:14: SettingWithCopyWarning: \n",
            "A value is trying to be set on a copy of a slice from a DataFrame.\n",
            "Try using .loc[row_indexer,col_indexer] = value instead\n",
            "\n",
            "See the caveats in the documentation: https://pandas.pydata.org/pandas-docs/stable/user_guide/indexing.html#returning-a-view-versus-a-copy\n",
            "  data_filtered['hierarchical_cluster'] = fcluster(Z, max_d, criterion='distance')\n"
          ]
        },
        {
          "output_type": "display_data",
          "data": {
            "text/plain": [
              "<Figure size 396.611x250 with 2 Axes>"
            ],
            "image/png": "[encoded data removed]"
          },
          "metadata": {}
        },
        {
          "output_type": "stream",
          "name": "stdout",
          "text": [
            "Silhouette Coefficient for Hierarchical Clustering: 0.5015447563117027\n",
            "Adjusted Rand Index for Hierarchical Clustering: -4.0061653598444305e-07\n"
          ]
        }
      ]
    },
    {
      "cell_type": "code",
      "source": [
        "data_clean = data[['regional', 'sektor_utama', 'nama_sektor', 'provinsi', 'pulau', 'investasi_rp_juta', 'deskripsi_kbli_2digit']]\n"
      ],
      "metadata": {
        "id": "oGZDp14-UYuq"
      },
      "execution_count": null,
      "outputs": []
    },
    {
      "cell_type": "code",
      "source": [
        "label_encoder = LabelEncoder()\n",
        "\n",
        "data_clean['regional'] = label_encoder.fit_transform(data_clean['regional'])\n",
        "data_clean['sektor_utama'] = label_encoder.fit_transform(data_clean['sektor_utama'])\n",
        "data_clean['nama_sektor'] = label_encoder.fit_transform(data_clean['nama_sektor'])\n",
        "data_clean['provinsi'] = label_encoder.fit_transform(data_clean['provinsi'])\n",
        "data_clean['pulau'] = label_encoder.fit_transform(data_clean['pulau'])\n",
        "data_clean['deskripsi_kbli_2digit'] = label_encoder.fit_transform(data_clean['deskripsi_kbli_2digit'])"
      ],
      "metadata": {
        "colab": {
          "base_uri": "https://localhost:8080/"
        },
        "id": "ExfammKDT1Me",
        "outputId": "646d13c8-73d2-4bb3-8480-6c94a3eb4110"
      },
      "execution_count": null,
      "outputs": [
        {
          "output_type": "stream",
          "name": "stderr",
          "text": [
            "<ipython-input-53-0d0650ea373d>:3: SettingWithCopyWarning: \n",
            "A value is trying to be set on a copy of a slice from a DataFrame.\n",
            "Try using .loc[row_indexer,col_indexer] = value instead\n",
            "\n",
            "See the caveats in the documentation: https://pandas.pydata.org/pandas-docs/stable/user_guide/indexing.html#returning-a-view-versus-a-copy\n",
            "  data_clean['regional'] = label_encoder.fit_transform(data_clean['regional'])\n",
            "<ipython-input-53-0d0650ea373d>:4: SettingWithCopyWarning: \n",
            "A value is trying to be set on a copy of a slice from a DataFrame.\n",
            "Try using .loc[row_indexer,col_indexer] = value instead\n",
            "\n",
            "See the caveats in the documentation: https://pandas.pydata.org/pandas-docs/stable/user_guide/indexing.html#returning-a-view-versus-a-copy\n",
            "  data_clean['sektor_utama'] = label_encoder.fit_transform(data_clean['sektor_utama'])\n",
            "<ipython-input-53-0d0650ea373d>:5: SettingWithCopyWarning: \n",
            "A value is trying to be set on a copy of a slice from a DataFrame.\n",
            "Try using .loc[row_indexer,col_indexer] = value instead\n",
            "\n",
            "See the caveats in the documentation: https://pandas.pydata.org/pandas-docs/stable/user_guide/indexing.html#returning-a-view-versus-a-copy\n",
            "  data_clean['nama_sektor'] = label_encoder.fit_transform(data_clean['nama_sektor'])\n",
            "<ipython-input-53-0d0650ea373d>:6: SettingWithCopyWarning: \n",
            "A value is trying to be set on a copy of a slice from a DataFrame.\n",
            "Try using .loc[row_indexer,col_indexer] = value instead\n",
            "\n",
            "See the caveats in the documentation: https://pandas.pydata.org/pandas-docs/stable/user_guide/indexing.html#returning-a-view-versus-a-copy\n",
            "  data_clean['provinsi'] = label_encoder.fit_transform(data_clean['provinsi'])\n",
            "<ipython-input-53-0d0650ea373d>:7: SettingWithCopyWarning: \n",
            "A value is trying to be set on a copy of a slice from a DataFrame.\n",
            "Try using .loc[row_indexer,col_indexer] = value instead\n",
            "\n",
            "See the caveats in the documentation: https://pandas.pydata.org/pandas-docs/stable/user_guide/indexing.html#returning-a-view-versus-a-copy\n",
            "  data_clean['pulau'] = label_encoder.fit_transform(data_clean['pulau'])\n",
            "<ipython-input-53-0d0650ea373d>:8: SettingWithCopyWarning: \n",
            "A value is trying to be set on a copy of a slice from a DataFrame.\n",
            "Try using .loc[row_indexer,col_indexer] = value instead\n",
            "\n",
            "See the caveats in the documentation: https://pandas.pydata.org/pandas-docs/stable/user_guide/indexing.html#returning-a-view-versus-a-copy\n",
            "  data_clean['deskripsi_kbli_2digit'] = label_encoder.fit_transform(data_clean['deskripsi_kbli_2digit'])\n"
          ]
        }
      ]
    },
    {
      "cell_type": "code",
      "source": [
        "X = data_clean[['regional', 'sektor_utama', 'nama_sektor', 'provinsi', 'pulau', 'investasi_rp_juta', 'deskripsi_kbli_2digit']]\n"
      ],
      "metadata": {
        "id": "H2dts44iUaka"
      },
      "execution_count": null,
      "outputs": []
    },
    {
      "cell_type": "code",
      "source": [
        "kmeans = KMeans(n_clusters=3, random_state=42)\n",
        "kmeans_labels = kmeans.fit_predict(X)"
      ],
      "metadata": {
        "id": "SM-hCWVTUdqP"
      },
      "execution_count": null,
      "outputs": []
    },
    {
      "cell_type": "code",
      "source": [
        "silhouette_kmeans = silhouette_score(X, kmeans_labels)\n",
        "print(f\"Silhouette Score for K-Means: {silhouette_kmeans}\")"
      ],
      "metadata": {
        "colab": {
          "base_uri": "https://localhost:8080/"
        },
        "id": "tknw13QkUfNj",
        "outputId": "20fb8089-f307-41d0-dd70-09d48c1e3423"
      },
      "execution_count": null,
      "outputs": [
        {
          "output_type": "stream",
          "name": "stdout",
          "text": [
            "Silhouette Score for K-Means: 0.9841043373120892\n"
          ]
        }
      ]
    },
    {
      "cell_type": "code",
      "source": [
        "# Menghitung Adjusted Rand Index (dengan label asli untuk referensi)\n",
        "# Asumsi kita tidak punya label asli, gunakan label prediksi untuk analisis dalam kasus ini\n",
        "ari_kmeans = adjusted_rand_score(kmeans_labels, kmeans_labels)  # Misalnya, jika kita tidak punya label ground truth\n",
        "print(f\"Adjusted Rand Index for K-Means: {ari_kmeans}\")"
      ],
      "metadata": {
        "colab": {
          "base_uri": "https://localhost:8080/"
        },
        "id": "q0J520vyUgLp",
        "outputId": "aa4d51b0-f350-4fc3-e50b-914c0dedc4f1"
      },
      "execution_count": null,
      "outputs": [
        {
          "output_type": "stream",
          "name": "stdout",
          "text": [
            "Adjusted Rand Index for K-Means: 1.0\n"
          ]
        }
      ]
    },
    {
      "cell_type": "code",
      "source": [
        "import scipy.cluster.hierarchy as sch"
      ],
      "metadata": {
        "id": "4VHN_NK5UncG"
      },
      "execution_count": null,
      "outputs": []
    },
    {
      "cell_type": "code",
      "source": [
        "plt.figure(figsize=(10, 7))\n",
        "dendrogram = sch.dendrogram(sch.linkage(X, method='ward'))\n",
        "plt.title('Dendrogram for Hierarchical Clustering')\n",
        "plt.show()"
      ],
      "metadata": {
        "colab": {
          "base_uri": "https://localhost:8080/",
          "height": 630
        },
        "id": "lADqVTt8U-0T",
        "outputId": "c06d3fc8-d355-46f6-980f-7973dedbcdfd"
      },
      "execution_count": null,
      "outputs": [
        {
          "output_type": "display_data",
          "data": {
            "text/plain": [
              "<Figure size 1000x700 with 1 Axes>"
            ],
            "image/png": "[encoded data removed]"
          },
          "metadata": {}
        }
      ]
    },
    {
      "cell_type": "code",
      "source": [
        "hierarchical = sch.fcluster(sch.linkage(X, method='ward'), 3, criterion='maxclust')\n"
      ],
      "metadata": {
        "id": "bQclToMVVA6-"
      },
      "execution_count": null,
      "outputs": []
    },
    {
      "cell_type": "code",
      "source": [
        "silhouette_hierarchical = silhouette_score(X, hierarchical)\n",
        "print(f\"Silhouette Score for Hierarchical Clustering: {silhouette_hierarchical}\")"
      ],
      "metadata": {
        "colab": {
          "base_uri": "https://localhost:8080/"
        },
        "id": "iXavjq_BVG_K",
        "outputId": "0f6cce67-20f9-40ff-9045-e0f4125934d3"
      },
      "execution_count": null,
      "outputs": [
        {
          "output_type": "stream",
          "name": "stdout",
          "text": [
            "Silhouette Score for Hierarchical Clustering: 0.9777067265254378\n"
          ]
        }
      ]
    },
    {
      "cell_type": "code",
      "source": [
        "from sklearn.metrics.pairwise import euclidean_distances"
      ],
      "metadata": {
        "id": "eL9Jkn-9WLj6"
      },
      "execution_count": null,
      "outputs": []
    },
    {
      "cell_type": "code",
      "source": [
        "euclidean_distance = euclidean_distances(X)\n",
        "print(f\"Euclidean Distance matrix: {euclidean_distance[:5, :5]}\")"
      ],
      "metadata": {
        "colab": {
          "base_uri": "https://localhost:8080/"
        },
        "id": "60YEBbq_VLIz",
        "outputId": "9f927b80-944a-4583-846c-dd91b732ee88"
      },
      "execution_count": null,
      "outputs": [
        {
          "output_type": "stream",
          "name": "stdout",
          "text": [
            "Euclidean Distance matrix: [[0.00000000e+00 1.02174397e+04 1.02124411e+04 1.02174528e+04\n",
            "  9.88245663e+03]\n",
            " [1.02174397e+04 0.00000000e+00 8.12403840e+00 2.10000000e+01\n",
            "  3.35657564e+02]\n",
            " [1.02124411e+04 8.12403840e+00 0.00000000e+00 2.06155281e+01\n",
            "  3.30605505e+02]\n",
            " [1.02174528e+04 2.10000000e+01 2.06155281e+01 0.00000000e+00\n",
            "  3.35000000e+02]\n",
            " [9.88245663e+03 3.35657564e+02 3.30605505e+02 3.35000000e+02\n",
            "  0.00000000e+00]]\n"
          ]
        }
      ]
    },
    {
      "cell_type": "code",
      "source": [
        "plt.scatter(X['investasi_rp_juta'], X['regional'], c=kmeans_labels, cmap='viridis')\n",
        "plt.title('K-Means Clustering Results')\n",
        "plt.xlabel('Investasi (IDR)')\n",
        "plt.ylabel('Regional')\n",
        "plt.show()"
      ],
      "metadata": {
        "colab": {
          "base_uri": "https://localhost:8080/",
          "height": 472
        },
        "id": "oljqlIXIVMq7",
        "outputId": "14262e51-4b7c-4b85-e855-0489b9475b32"
      },
      "execution_count": null,
      "outputs": [
        {
          "output_type": "display_data",
          "data": {
            "text/plain": [
              "<Figure size 640x480 with 1 Axes>"
            ],
            "image/png": "[encoded data removed]"
          },
          "metadata": {}
        }
      ]
    },
    {
      "cell_type": "code",
      "source": [
        "plt.scatter(X['investasi_rp_juta'], X['regional'], c=hierarchical, cmap='plasma')\n",
        "plt.title('Hierarchical Clustering Results')\n",
        "plt.xlabel('Investasi (IDR)')\n",
        "plt.ylabel('Regional')\n",
        "plt.show()"
      ],
      "metadata": {
        "colab": {
          "base_uri": "https://localhost:8080/",
          "height": 472
        },
        "id": "F1aWQ_ToVO1M",
        "outputId": "dd3c4005-2ca5-4e4b-c602-cef765d32f5e"
      },
      "execution_count": null,
      "outputs": [
        {
          "output_type": "display_data",
          "data": {
            "text/plain": [
              "<Figure size 640x480 with 1 Axes>"
            ],
            "image/png": "[encoded data removed]"
          },
          "metadata": {}
        }
      ]
    }
  ]
}